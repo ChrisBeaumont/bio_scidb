{
 "metadata": {
  "name": "",
  "signature": "sha256:847991df775ce4433a5f2277d274bde1427c537ceaa421802da9c2c0b67b1146"
 },
 "nbformat": 3,
 "nbformat_minor": 0,
 "worksheets": [
  {
   "cells": [
    {
     "cell_type": "heading",
     "level": 1,
     "metadata": {},
     "source": [
      "The Cancer Genome Atlas"
     ]
    },
    {
     "cell_type": "markdown",
     "metadata": {},
     "source": [
      "This notebook is adapted from the tcga_toolkit R script."
     ]
    },
    {
     "cell_type": "code",
     "collapsed": false,
     "input": [
      "%matplotlib inline\n",
      "\n",
      "from time import time\n",
      "\n",
      "from scidbpy import connect\n",
      "from scidbpy.schema_utils import rechunk\n",
      "\n",
      "import numpy as np\n",
      "import pandas as pd\n",
      "import matplotlib.pyplot as plt\n",
      "import networkx as nx"
     ],
     "language": "python",
     "metadata": {},
     "outputs": []
    },
    {
     "cell_type": "heading",
     "level": 2,
     "metadata": {},
     "source": [
      "Demo Functionality"
     ]
    },
    {
     "cell_type": "code",
     "collapsed": false,
     "input": [
      "# establish a connection with the database\n",
      "sdb = connect()"
     ],
     "language": "python",
     "metadata": {},
     "outputs": []
    },
    {
     "cell_type": "code",
     "collapsed": false,
     "input": [
      "# show the TCG arrays in the database\n",
      "sdb.ls(\"TCG*STD\")"
     ],
     "language": "python",
     "metadata": {},
     "outputs": []
    },
    {
     "cell_type": "code",
     "collapsed": false,
     "input": [
      "methylation_450 = sdb.wrap_array(\"TCGA_2014_06_14_HUMANMETHYLATION450_STD\")\n",
      "print methylation_450"
     ],
     "language": "python",
     "metadata": {},
     "outputs": []
    },
    {
     "cell_type": "heading",
     "level": 4,
     "metadata": {},
     "source": [
      "Return the number of non-empty cells"
     ]
    },
    {
     "cell_type": "markdown",
     "metadata": {},
     "source": [
      "Most SciDB-Py operations are lazy -- they delay running queries as long as possible. Lazy arrays are backed by unevaluated queries, which you can see in the `query` attribute"
     ]
    },
    {
     "cell_type": "code",
     "collapsed": false,
     "input": [
      "ct = methylation_450.count()\n",
      "ct.query"
     ],
     "language": "python",
     "metadata": {},
     "outputs": []
    },
    {
     "cell_type": "markdown",
     "metadata": {},
     "source": [
      "Here we actually run the query and download the result as a NumPy array.\n",
      "\n",
      "The array is large; if it's not in cache, this will run for a while!\n",
      "\n",
      "The `eval()` isn't strictly necessary; SciDB-Py automatically evaluates\n",
      "lazy arrays when downloading them. We leave it in to be explicit."
     ]
    },
    {
     "cell_type": "code",
     "collapsed": false,
     "input": [
      "ct.eval()           # run the query\n",
      "print ct.toarray()  # download to NumPy array"
     ],
     "language": "python",
     "metadata": {},
     "outputs": []
    },
    {
     "cell_type": "markdown",
     "metadata": {},
     "source": [
      "Select one value out of the 3+ billion. This is the kind of thing SciDB is very good at"
     ]
    },
    {
     "cell_type": "code",
     "collapsed": false,
     "input": [
      "methylation_450[7, 2495, 1234]"
     ],
     "language": "python",
     "metadata": {},
     "outputs": []
    },
    {
     "cell_type": "markdown",
     "metadata": {},
     "source": [
      "The probes array describes the methylation probes"
     ]
    },
    {
     "cell_type": "code",
     "collapsed": false,
     "input": [
      "humanmethylation_450_probe = sdb.wrap_array(\"TCGA_2014_06_14_HUMANMETHYLATION450_PROBE_STD\")\n",
      "humanmethylation_450_probe"
     ],
     "language": "python",
     "metadata": {},
     "outputs": []
    },
    {
     "cell_type": "markdown",
     "metadata": {},
     "source": [
      "Pick a probe at probe_id=1234, download it as a Pandas DataFrame"
     ]
    },
    {
     "cell_type": "code",
     "collapsed": false,
     "input": [
      "humanmethylation_450_probe[:, 1234].todataframe()"
     ],
     "language": "python",
     "metadata": {},
     "outputs": []
    },
    {
     "cell_type": "markdown",
     "metadata": {},
     "source": [
      "SciDB arrays are intrinsically sparse. Downloading as a dataframe extracts the nonsparse cells."
     ]
    },
    {
     "cell_type": "heading",
     "level": 4,
     "metadata": {},
     "source": [
      "Select a subset of the probes where \"reference_gene_symbols\" contains \"EGFR\"\n"
     ]
    },
    {
     "cell_type": "code",
     "collapsed": false,
     "input": [
      "# the argument to filter is a SciDB boolean expression\n",
      "egfr_probes = humanmethylation_450_probe.filter(\"regex(reference_gene_symbols, '.*EGFR.*')\")\n",
      "\n",
      "#How many are there? One count for each column\n",
      "print egfr_probes.count()[0]\n",
      "\n",
      "# convert to dataframe\n",
      "egfr_probes.todataframe()"
     ],
     "language": "python",
     "metadata": {},
     "outputs": []
    },
    {
     "cell_type": "markdown",
     "metadata": {},
     "source": [
      "Another array listing all the TCGA tumor types"
     ]
    },
    {
     "cell_type": "code",
     "collapsed": false,
     "input": [
      "tumor_type = sdb.wrap_array(\"TCGA_2014_06_14_TUMOR_TYPE_STD\")\n",
      "tumor_type"
     ],
     "language": "python",
     "metadata": {},
     "outputs": []
    },
    {
     "cell_type": "markdown",
     "metadata": {},
     "source": [
      "Let's look at the first few entries"
     ]
    },
    {
     "cell_type": "code",
     "collapsed": false,
     "input": [
      "tumor_type.head()"
     ],
     "language": "python",
     "metadata": {},
     "outputs": []
    },
    {
     "cell_type": "heading",
     "level": 3,
     "metadata": {},
     "source": [
      "Indexing"
     ]
    },
    {
     "cell_type": "markdown",
     "metadata": {},
     "source": [
      "Let's extract the methylation_450 data associated with the `GBM` tumor type. We'll show a few ways to do this"
     ]
    },
    {
     "cell_type": "markdown",
     "metadata": {},
     "source": [
      "##### Positional index\n",
      "\n",
      "We manually look up which tumor_id corresponds to GBM, and manually index the methylation_450"
     ]
    },
    {
     "cell_type": "code",
     "collapsed": false,
     "input": [
      "tumor_type[tumor_type['tumor_type_name'] == 'GBM'].todataframe()"
     ],
     "language": "python",
     "metadata": {},
     "outputs": []
    },
    {
     "cell_type": "code",
     "collapsed": false,
     "input": [
      "gbm_tumor_id = 7\n",
      "methylation_in_gbm = methylation_450[gbm_tumor_id, :, :]\n",
      "methylation_in_gbm"
     ],
     "language": "python",
     "metadata": {},
     "outputs": []
    },
    {
     "cell_type": "markdown",
     "metadata": {},
     "source": [
      "##### Positional index with named dimension\n",
      "\n",
      "The `isel` method behaves like normal array indexing, but lets specify dimensions by name rather than position"
     ]
    },
    {
     "cell_type": "code",
     "collapsed": false,
     "input": [
      "methylation_in_gbm = methylation_450.isel(tumor_type_id=gbm_tumor_id)"
     ],
     "language": "python",
     "metadata": {},
     "outputs": []
    },
    {
     "cell_type": "markdown",
     "metadata": {},
     "source": [
      "##### Via Join\n",
      "\n",
      "Here we use a database-style join against the subset of the tumor array focused on GBM.\n",
      "\n",
      "This is a more verbose approach, but it's most general -- if there were multiple tumor_ids\n",
      "related to GBM (there isn't this time), the merge would preserve the many-to-many relationship."
     ]
    },
    {
     "cell_type": "code",
     "collapsed": false,
     "input": [
      "methylation_in_gbm = sdb.merge(methylation_450, tumor_type.filter(\"tumor_type_name = 'GBM'\"))"
     ],
     "language": "python",
     "metadata": {},
     "outputs": []
    },
    {
     "cell_type": "code",
     "collapsed": false,
     "input": [
      "methylation_in_gbm.count().toarray()"
     ],
     "language": "python",
     "metadata": {},
     "outputs": []
    },
    {
     "cell_type": "heading",
     "level": 3,
     "metadata": {},
     "source": [
      "More Joins"
     ]
    },
    {
     "cell_type": "markdown",
     "metadata": {},
     "source": [
      "Let's take a look at the schemas of methylation_in_gbm and egfr_probes"
     ]
    },
    {
     "cell_type": "code",
     "collapsed": false,
     "input": [
      "print methylation_in_gbm.schema\n",
      "print egfr_probes.schema"
     ],
     "language": "python",
     "metadata": {},
     "outputs": []
    },
    {
     "cell_type": "markdown",
     "metadata": {},
     "source": [
      "The `merge` method allows us to perform database-style joins on different arrays. Its signature mimics tha Pandas merge function.\n",
      "\n",
      "By default, `merge` performs an inner join on the dimensions and attributes with a common name in each input array. In the case of the arrays above, the join occurs on the shared `humanethylation450_probe_id` dimension"
     ]
    },
    {
     "cell_type": "code",
     "collapsed": false,
     "input": [
      "#Hint: when running joins always list the larger array first\n",
      "egfr_methylation_in_gbm = sdb.merge(methylation_in_gbm, egfr_probes)['value']\n",
      "print egfr_methylation_in_gbm.query"
     ],
     "language": "python",
     "metadata": {},
     "outputs": []
    },
    {
     "cell_type": "code",
     "collapsed": false,
     "input": [
      "egfr_methylation_in_gbm.schema"
     ],
     "language": "python",
     "metadata": {},
     "outputs": []
    },
    {
     "cell_type": "code",
     "collapsed": false,
     "input": [
      "t0 = time()\n",
      "egfr_methylation_in_gbm.eval()\n",
      "print \"%s sec\" % (time() - t0)"
     ],
     "language": "python",
     "metadata": {},
     "outputs": []
    },
    {
     "cell_type": "code",
     "collapsed": false,
     "input": [
      "egfr_methylation_in_gbm.todataframe()"
     ],
     "language": "python",
     "metadata": {},
     "outputs": []
    },
    {
     "cell_type": "heading",
     "level": 4,
     "metadata": {},
     "source": [
      "Plot a histogram."
     ]
    },
    {
     "cell_type": "markdown",
     "metadata": {},
     "source": [
      "The bin counts are computed in SciDB, the histogram is rendered in SciDB-Py"
     ]
    },
    {
     "cell_type": "code",
     "collapsed": false,
     "input": [
      "from scidbpy.aggregation import histogram\n",
      "histogram(egfr_methylation_in_gbm, bins=10, plot=True)\n",
      "plt.title('Distribution of Methylation 450 probe values for GBM')"
     ],
     "language": "python",
     "metadata": {},
     "outputs": []
    },
    {
     "cell_type": "heading",
     "level": 2,
     "metadata": {},
     "source": [
      "Putting it together"
     ]
    },
    {
     "cell_type": "code",
     "collapsed": false,
     "input": [
      "TCGA_DOWNLOAD_DATE='2014_06_14'\n",
      "\n",
      "def wrap(name, date=TCGA_DOWNLOAD_DATE):\n",
      "    return sdb.wrap_array('TCGA_%s_%s_STD' % (date, name))\n",
      "\n",
      "TUMOR_TYPE = wrap('TUMOR_TYPE')\n",
      "GENE = wrap('GENE')\n",
      "SAMPLE_TYPE = wrap('SAMPLE_TYPE')\n",
      "SAMPLE = wrap('SAMPLE')\n",
      "MUTATION = wrap('MUTATION')\n",
      "CLINICAL = wrap('CLINICAL')"
     ],
     "language": "python",
     "metadata": {},
     "outputs": []
    },
    {
     "cell_type": "heading",
     "level": 3,
     "metadata": {},
     "source": [
      "Utility Functions"
     ]
    },
    {
     "cell_type": "code",
     "collapsed": false,
     "input": [
      "def tumor_type_filter(types=('GBM', 'BRCA')):\n",
      "    \"\"\"\n",
      "    Filter the TUMOR_TYPE array to a subset of types\n",
      "    \n",
      "    Parameters\n",
      "    ----------\n",
      "    types : tuple of tumor types\n",
      "    \n",
      "    Returns\n",
      "    -------\n",
      "    An unevaluated view of TUMOR_TYPE\n",
      "    \"\"\"    \n",
      "    condition = \" or \".join(\"tumor_type_name='%s'\" % t for t in types)\n",
      "    return TUMOR_TYPE.filter(condition)"
     ],
     "language": "python",
     "metadata": {},
     "outputs": []
    },
    {
     "cell_type": "code",
     "collapsed": false,
     "input": [
      "tumor_type_filter().todataframe()"
     ],
     "language": "python",
     "metadata": {},
     "outputs": []
    },
    {
     "cell_type": "code",
     "collapsed": false,
     "input": [
      "def sample_filter(tumors=('GBM', 'BRCA'), sample_type_code=\"T\"):\n",
      "    \"\"\"\n",
      "    Filter samples by tumor type and sample type\n",
      "    \n",
      "    Parameters\n",
      "    ----------\n",
      "    tumors: Tuple of strings\n",
      "       Which tumor types to select\n",
      "    sample_type_code: 'T' | 'N' (default 'T')\n",
      "       Whether to select for tumor or normal samples\n",
      "    \n",
      "    \"\"\"\n",
      "    if tumors:\n",
      "        selected_samples = sdb.merge(SAMPLE, tumor_type_filter(tumors), on=\"tumor_type_id\")\n",
      "        selected_sample_types = SAMPLE_TYPE.filter(\"regex(short_letter_code, '%s.*')\" % sample_type_code)\n",
      "        selected_samples = sdb.merge(selected_sample_types, selected_samples, on=\"sample_type_id\")\n",
      "        return(selected_samples)\n",
      "    \n",
      "    selected_sample_types = SAMPLE_TYPE.filter(\"regex(short_letter_code, '%s.*')\" % sample_type_code)\n",
      "    return merge(selected_sample_types, SAMPLE, on=\"sample_type_id\")\n",
      "\n",
      "tmp = sample_filter()\n",
      "tmp.query\n",
      "tmp.count()[0]"
     ],
     "language": "python",
     "metadata": {},
     "outputs": []
    },
    {
     "cell_type": "code",
     "collapsed": false,
     "input": [
      "def gene_filter(gene_symbols = ('EGFR', 'BRCA1')):\n",
      "    \"\"\"\n",
      "    Filter genese by symbol\n",
      "    \"\"\"\n",
      "    gene_filter_condition = \" or \".join(\"gene_symbol = '%s'\" % g for g in gene_symbols)\n",
      "    return GENE.filter(gene_filter_condition)"
     ],
     "language": "python",
     "metadata": {},
     "outputs": []
    },
    {
     "cell_type": "code",
     "collapsed": false,
     "input": [
      "gene_filter().todataframe()"
     ],
     "language": "python",
     "metadata": {},
     "outputs": []
    },
    {
     "cell_type": "code",
     "collapsed": false,
     "input": [
      "def probe_gene_filter(platform = \"HUMANMETHYLATION27\", gene_symbols = (\"EGFR\", \"BRCA1\")):\n",
      "    \"\"\"\n",
      "    Filter platform probes by genes\n",
      "    \"\"\"\n",
      "    probe_array = wrap(platform+\"_PROBE\")\n",
      "    return sdb.merge(probe_array, gene_filter(gene_symbols))"
     ],
     "language": "python",
     "metadata": {},
     "outputs": []
    },
    {
     "cell_type": "code",
     "collapsed": false,
     "input": [
      "probe_gene_filter().todataframe()"
     ],
     "language": "python",
     "metadata": {},
     "outputs": []
    },
    {
     "cell_type": "code",
     "collapsed": false,
     "input": [
      "def generate_platform_quantiles(platform, num_buckets=101):\n",
      "    \"\"\"\n",
      "    Precompute quantiles for each platform array. Stores results in the database for later use\n",
      "    \"\"\"\n",
      "    print(\"Working on %s\" % platform)\n",
      "    quantile_name = 'TCGA_%s_%s_QUANTILE' % (TCGA_DOWNLOAD_DATE, platform)\n",
      "    sdb.remove(quantile_name)\n",
      "    platform = wrap(platform)\n",
      "    platform.quantile(num_buckets).eval().rename(quantile_name)"
     ],
     "language": "python",
     "metadata": {},
     "outputs": []
    },
    {
     "cell_type": "code",
     "collapsed": false,
     "input": [
      "# only compute a few by default. Takes a while!\n",
      "for platform in (\"HUMANMETHYLATION27\",\n",
      "                 \"AGILENTG4502A_07_1\", \n",
      "                 \"AGILENTG4502A_07_2\", \n",
      "                 \"AGILENTG4502A_07_3\", \n",
      "                 #\"GENOME_WIDE_SNP_6\",  \n",
      "                 #\"ILLUMINAHISEQ_RNASEQ\", \n",
      "                 #\"ILLUMINAGA_RNASEQV2\", \n",
      "                 #\"HT_HG_U133A\", \n",
      "                 #\"ILLUMINAHISEQ_RNASEQV2\", \n",
      "                 #\"PROTEIN_EXP\"\n",
      "                 ):\n",
      "    generate_platform_quantiles(platform)"
     ],
     "language": "python",
     "metadata": {},
     "outputs": []
    },
    {
     "cell_type": "code",
     "collapsed": false,
     "input": [
      "def lookup_quantile(value=0.5, platform=\"HUMANMETHYLATION27\"):\n",
      "    \"\"\"\n",
      "    Use the platform quantiles generated above to look up the quantile for a particular\n",
      "    probe value.\n",
      "    \n",
      "    Uses nearest neighbor interpolation.\n",
      "    \n",
      "    Parameters\n",
      "    ----------\n",
      "    platform : str\n",
      "       Which platform to consider\n",
      "    value : float\n",
      "       The platform probe value to compute a quantile for\n",
      "    \"\"\"    \n",
      "    quantile_name = 'TCGA_%s_%s_QUANTILE' % (TCGA_DOWNLOAD_DATE, platform)\n",
      "    array = sdb.wrap_array(quantile_name)\n",
      "    \n",
      "    # we find the maximum percentile less than the target value\n",
      "    result = array[array['value_quantile'] < value].aggregate('max(percentage)')\n",
      "    \n",
      "    return result[0]"
     ],
     "language": "python",
     "metadata": {},
     "outputs": []
    },
    {
     "cell_type": "code",
     "collapsed": false,
     "input": [
      "lookup_quantile()"
     ],
     "language": "python",
     "metadata": {},
     "outputs": []
    },
    {
     "cell_type": "code",
     "collapsed": false,
     "input": [
      "def average_metric(platform=\"HUMANMETHYLATION27\",\n",
      "                   tumors=('GBM', 'BRCA'),\n",
      "                   genes=('EGFR', 'BRCA1', 'BRCA2'),\n",
      "                   sample_type_code='T'):\n",
      "    \"\"\"\n",
      "    Compute average platform values for a set of tumors and genes, averaged over samples\n",
      "    \"\"\"\n",
      "    samples = sample_filter(tumors, sample_type_code)\n",
      "    probes = probe_gene_filter(platform, genes)\n",
      "    platform_array = wrap(platform)\n",
      "    probe_dimension = (\"%s_probe_id\" % platform).lower()        \n",
      "    \n",
      "    result = sdb.merge(platform_array, samples, on=\"sample_id\", suffixes=('', '_2'))\n",
      "    result = sdb.merge(result, probes, on=probe_dimension, suffixes=('', '_2'))\n",
      "        \n",
      "    # print result.schema\n",
      "    # After all of these joins, the array has 22 attributes and 7 dimensions.    \n",
      "    # We're only interested in the probe value, aggregated over samples    \n",
      "    result = result.redimension(\"<tumor_type_name:string, gene_symbol:string, value_avg:double null> \"\n",
      "                                \"[tumor_type_id = 0:27,1,0, gene_id=0:*,10000,0]\",\n",
      "                                \"avg(value) as value_avg\")\n",
      "    return result.todataframe()"
     ],
     "language": "python",
     "metadata": {},
     "outputs": []
    },
    {
     "cell_type": "code",
     "collapsed": false,
     "input": [
      "average_metric()"
     ],
     "language": "python",
     "metadata": {},
     "outputs": []
    },
    {
     "cell_type": "code",
     "collapsed": false,
     "input": [
      "def gene_profile(tumor='BRCA', sample_type_code='T', gene='BRCA2',\n",
      "                 platforms = (\"AGILENTG4502A_07_2\", \"HUMANMETHYLATION27\")):\n",
      "    \"\"\"\n",
      "    For a given tumor, gene, and tumor type, compute the average probe value over platforms.\n",
      "    Convert this average to the quantile score relative to all samples in the platform.\n",
      "    \n",
      "    Requires that all platforms have been passed through generate_platform_quantiles\n",
      "    \"\"\"\n",
      "    \n",
      "    #See also \"build_platform_sim\" below.\n",
      "    #If you build the SIM arrays, this kind of computation can be made a lot easier and quicker!\n",
      "    \n",
      "    # look at samples from one tumor and tumor type only\n",
      "    sample_subset = sample_filter((tumor,), sample_type_code).eval()\n",
      "    print(\"%i samples of type %s in tumor %s; gene %s\" % (sample_subset.count()[0][0], sample_type_code, tumor, gene))\n",
      "\n",
      "    results = {}    \n",
      "    for platform in platforms:\n",
      "        probe_subset = probe_gene_filter(platform, (gene,))\n",
      "        platform_array = wrap(platform)        \n",
      "        probe_dimension = \"%s_probe_id\" % platform.lower()\n",
      "        \n",
      "        result = sdb.merge(platform_array, probe_subset, on=probe_dimension)\n",
      "        result = sdb.merge(result, sample_subset, on=\"sample_id\")\n",
      "        \n",
      "        # average probe value over samples\n",
      "        result = result.aggregate(\"avg(value)\")[0]\n",
      "        \n",
      "        # turn into quantile score\n",
      "        if np.isfinite(result):\n",
      "            result = lookup_quantile(result, platform)\n",
      "            \n",
      "        results[platform] = result\n",
      "        \n",
      "    mutation_result = sdb.merge(MUTATION, gene_filter((gene,)))\n",
      "    mutation_result = sdb.merge(mutation_result, sample_subset)\n",
      "    results['Mutation CNT'] = mutation_result.count()[0][0]\n",
      "    return pd.Series(results)"
     ],
     "language": "python",
     "metadata": {},
     "outputs": []
    },
    {
     "cell_type": "code",
     "collapsed": false,
     "input": [
      "gene_profile(tumor=\"GBM\", gene=\"EGFR\")"
     ],
     "language": "python",
     "metadata": {},
     "outputs": []
    },
    {
     "cell_type": "code",
     "collapsed": false,
     "input": [
      "def compute_histological_signatures():\n",
      "    \"\"\"\n",
      "    Compute textual 'signatures' of tumor types by taking the four known clinical histological fields,\n",
      "    and concatenating them to form human-readable string disease categories. Also count the number of \n",
      "    patients for each signatures\n",
      "    \"\"\"\n",
      "    \n",
      "    # note you could also use pandas syntax here:\n",
      "    # result = CLINICAL\n",
      "    # result['ht'] = \"iif(key='patient.histologicaltype', value, '')\"    \n",
      "    result = CLINICAL.apply('ht', \"iif(key='patient.histologicaltype', value, '')\",\n",
      "                            'hto', \"iif(key='patient.histologicaltypeother', value, '')\",\n",
      "                            \"cht\", \"iif(key='patient.clinicalcqcf.histologicaltype', value, '')\",\n",
      "                            \"chto\",  \"iif(key='patient.clinicalcqcf.otherdiagnosis', value, '')\")\n",
      "    result = result.aggregate(\"max(ht) as ht\", \n",
      "                              \"max(hto) as hto\", \n",
      "                              \"max(cht) as cht\", \n",
      "                              \"max(chto) as chto\",\n",
      "                              by=[\"tumor_type_id\",\"patient_id\"])\n",
      "    \n",
      "    # a.papply(x, y) is shorthand for a.apply(x, y).project(x), or the AFL call project(apply(a, x, y), x)\n",
      "    # for a more pandas-y syntax, a = a.apply(x, y) is equivalent to a[x] = y\n",
      "    result = result.papply('histological_signature', \"ht+'.'+hto+'.'+cht+'.'+chto\")\n",
      "    \n",
      "    # Count occurances of each histological signature and tumor type over all patients\n",
      "    result = result.groupby(['histological_signature', 'tumor_type_id']).aggregate('count(*)', unpack=False)\n",
      "    \n",
      "    # join with TUMOR_TYPE to add tumor name\n",
      "    #result = sdb.merge(result, histological_signatures)\n",
      "    result = sdb.merge(result, TUMOR_TYPE)\n",
      "\n",
      "    # pull out the 3 attributes we care about\n",
      "    result = result[[\"tumor_type_name\", \"histological_signature\", \"count\"]]\n",
      "    return result"
     ],
     "language": "python",
     "metadata": {},
     "outputs": []
    },
    {
     "cell_type": "code",
     "collapsed": false,
     "input": [
      "df = compute_histological_signatures().todataframe()"
     ],
     "language": "python",
     "metadata": {},
     "outputs": []
    },
    {
     "cell_type": "code",
     "collapsed": false,
     "input": [
      "# the most common histological signatures\n",
      "df.sort('count', ascending=False).head()"
     ],
     "language": "python",
     "metadata": {},
     "outputs": []
    },
    {
     "cell_type": "code",
     "collapsed": false,
     "input": [
      "sdb.query(\"load_library('dense_linear_algebra')\")\n",
      "sdb.query(\"load_library('linear_algebra')\")\n",
      "\n",
      "def phyper(x, q, m, n, k, new='p'):\n",
      "    return x.apply(new, 'hygecdf(%s,%s,%s,%s)' % (q, m, n, k))\n",
      "\n",
      "def qhyper(x, p, m, n, k, new='q'):\n",
      "    return x.apply(new, 'ihygecdf(%s, %s, %s, %s)' % (p, m, n, k))\n",
      "\n",
      "def gene_fisher_test(tumor_type='GBM'):\n",
      "    \"\"\"\n",
      "    For a given tumor, aggregate the co-occurance rates of mutation for all gene pairs.\n",
      "    Then run a Fisher exact test against these rates to measure the significance of correlation. \n",
      "    \n",
      "    Note\n",
      "    ----\n",
      "    should use two-tailed test. See https://github.com/Paradigm4/superfunpack\n",
      "    \"\"\"    \n",
      "    tumor_samples = sample_filter(tumors=(tumor_type,), sample_type_code=\"T\").papply(\"flag\", \"bool(true)\")\n",
      "    samples_with_mutations = (sdb.merge(MUTATION, tumor_samples)\n",
      "                              .aggregate('count(*) as unused', by=(\"gene_id\",  \"sample_id\"))\n",
      "                              .papply('count', 1))\n",
      "    total_samples = samples_with_mutations.aggregate('count(*)', by='sample_id').count()[0]\n",
      "\n",
      "    print(\"Identified %i samples with mutations\" % total_samples)\n",
      "        \n",
      "    mutations_in_gene_pairs = (sdb.merge(samples_with_mutations, samples_with_mutations, on=\"sample_id\")\n",
      "                               .cast(\"<a:uint64 null, b:int64 null> [gene_id_1=0:*,10000,0, sample_id=0:*,1000,0, gene_id_2=0:*,10000,0]\")\n",
      "                               .filter('gene_id_2 > gene_id_1'))\n",
      "\n",
      "    print(\"Aggregating mutations in gene pairs\")\n",
      "    mutations_in_gene_pairs = mutations_in_gene_pairs.aggregate(\"count(*) as mutated_both\", by=(\"gene_id_1\", \"gene_id_2\"))\n",
      "    mutations_in_gene_pairs.eval()\n",
      "\n",
      "    print(\"Aggregating mutations in individual genes\")    \n",
      "    mutations_per_gene = samples_with_mutations.aggregate('count(*) as mutated_samples_in_gene', by=['gene_id']).eval()\n",
      "    \n",
      "    mutations_gene_1 = mutations_per_gene.cast(\"<mutated_samples_in_gene_1:uint64 null> [gene_id_1=0:*,10000,0]\")\n",
      "    join = sdb.merge(mutations_in_gene_pairs, mutations_gene_1)\n",
      "    mutations_gene_2 = mutations_per_gene.cast(\"<mutated_samples_in_gene_2:uint64 null> [gene_id_2=0:*,10000,0]\")\n",
      "    join = sdb.merge(join, mutations_gene_2)\n",
      "    \n",
      "    result_matrix = (join\n",
      "                     .apply('mutated_1_only', \"mutated_samples_in_gene_1 - mutated_both\",\n",
      "                                \"mutated_2_only\", \"mutated_samples_in_gene_2 - mutated_both\")\n",
      "                     .apply(\"not_mutated\", \"%i - mutated_1_only - mutated_2_only - mutated_both\" % total_samples))\n",
      "    \n",
      "    result_matrix = result_matrix[[\"mutated_both\", \"mutated_1_only\", \"mutated_2_only\", \"not_mutated\"]]\n",
      "    \n",
      "    #                 A = G1Y       B = G1N | sum\n",
      "    #---------------------------------------------------\n",
      "    #  I  = G2Y    | x =both   | q =2 only  | k = x + q\n",
      "    #  II = G2N    | y =1 only | z =no_mut  |     y + z\n",
      "    #---------------------------------------------------\n",
      "    #         sum  | n = x + y | m = q + z  | total\n",
      "\n",
      "    result_matrix = phyper(result_matrix, \n",
      "                           q=\"mutated_2_only\",\n",
      "                           m=\"mutated_2_only + not_mutated\",\n",
      "                           n=\"mutated_both + mutated_1_only\",\n",
      "                           k=\"mutated_both + mutated_2_only\")\n",
      "    \n",
      "    # add gene names back to result\n",
      "    gene_redim = GENE.redimension(\"<gene_symbol:string>[gene_id=0:*,10000,0]\")\n",
      "    gene_redim_1 = gene_redim.cast(\"<gene_symbol_1:string>[gene_id_1=0:*,10000,0]\")\n",
      "    gene_redim_2 = gene_redim.cast(\"<gene_symbol_2:string>[gene_id_2=0:*,10000,0]\")\n",
      "    result_matrix = sdb.merge(sdb.merge(result_matrix,gene_redim_1), gene_redim_2)\n",
      "        \n",
      "    result_matrix = result_matrix[[\"gene_symbol_1\", \"gene_symbol_2\", \"mutated_both\", \n",
      "                                   \"mutated_1_only\", \"mutated_2_only\", \"not_mutated\", \"p\"]]\n",
      "    return result_matrix"
     ],
     "language": "python",
     "metadata": {},
     "outputs": []
    },
    {
     "cell_type": "code",
     "collapsed": false,
     "input": [
      "fisher = gene_fisher_test()\n",
      "\n",
      "# look at genes whose mutations are highly correlated\n",
      "fisher[fisher['p'] < 1e-6].todataframe()"
     ],
     "language": "python",
     "metadata": {},
     "outputs": []
    },
    {
     "cell_type": "code",
     "collapsed": false,
     "input": [
      "# Example correlation workflow using RNASEQ data from BRCA\n",
      "# Grab the RNASEQ data, densify it, compute 20K x 20K GENE vs GENE correlation matrix, threshold, plot adjacency\n",
      "# Note: missing a regularization step, runs a lot faster in clusters with more cores\n",
      "# Consider running these interactively and examining the data structures at every step\n",
      "from time import time\n",
      "\n",
      "def corr_simplified():\n",
      "    t1 = time()\n",
      "\n",
      "    platform = wrap('ILLUMINAHISEQ_RNASEQ')\n",
      "    probes = wrap('ILLUMINAHISEQ_RNASEQ_PROBE')\n",
      "    tumor_type = wrap('TUMOR_TYPE')\n",
      "    \n",
      "    multiply_chunk_size = 1000\n",
      "    probe_dim = platform.dim_names[2]\n",
      "    \n",
      "    tumor_brca = tumor_type[tumor_type['tumor_type_name'] == 'BRCA']\n",
      "    platform_brca = sdb.merge(platform, tumor_brca, on='tumor_type_id').redimension(\"<value:double> [sample_id=0:17999,1000,0,illuminahiseq_rnaseq_probe_id=0:44999,1000,0]\")\n",
      "    platform_brca.eval()\n",
      "    \n",
      "    present_samples = platform_brca.aggregate(\"count(*)\", by=\"sample_id\")\n",
      "    present_probes = platform_brca.aggregate(\"count(*)\", by=\"illuminahiseq_rnaseq_probe_id\")\n",
      "    \n",
      "    samples_index = present_samples.unpack()['sample_id'].cast(\"<sample_id:int64> [dense_sample_id=0:*,180000,0]\")\n",
      "    samples_index = rechunk(samples_index, chunk_size=multiply_chunk_size).eval()\n",
      "    num_samples = int(samples_index.count()[0])\n",
      "    \n",
      "    probes_index = present_probes.unpack()[\"illuminahiseq_rnaseq_probe_id\"].cast(\"<illuminahiseq_rnaseq_probe_id:int64> [i=0:*,45000,0]\")\n",
      "    probes_index = rechunk(probes_index, chunk_size=multiply_chunk_size).eval()\n",
      "    num_probes = int(probes_index.count()[0])\n",
      "    \n",
      "    platform_idx = (platform_brca\n",
      "                    .apply('sample_idx', 'sample_id',\n",
      "                           'illuminahiseq_rnaseq_probe_idx', 'illuminahiseq_rnaseq_probe_id')\n",
      "                    .index_lookup(samples_index, \"sample_idx\", \"dense_sample_id\")\n",
      "                    .index_lookup(probes_index, \"illuminahiseq_rnaseq_probe_idx\", \"dense_probe_id\")\n",
      "                    )\n",
      "    \n",
      "    result_schema = \"<value:double> [dense_sample_id=0:%i,%i,0, dense_probe_id=0:%i,%i,0]\" % (\n",
      "                    num_samples-1,\n",
      "                    multiply_chunk_size,\n",
      "                    num_probes-1,\n",
      "                    multiply_chunk_size)\n",
      "\n",
      "    platform_dense = platform_idx.redimension(result_schema)\n",
      "\n",
      "    # compute probe correlation matrix    \n",
      "    # Arithmetic uses numpy broadcasting rules    \n",
      "    colmeans = platform_dense.mean(0)\n",
      "    std = platform_dense.std(0)\n",
      "    platform_zscore = (platform_dense - colmeans) / std\n",
      "    COR = sdb.dot(platform_zscore.T, platform_zscore) / (num_samples - 1)\n",
      "    COR = COR.relabel({COR.dim_names[0]:'dense_probe_id',\n",
      "                       COR.dim_names[1]:'dense_probe_id_1',\n",
      "                       COR.att_names[0]:'v'})\n",
      "    \n",
      "    # look at highly correlated, off-diagonal probes\n",
      "    CORT = COR.filter('v > 0.9999 and dense_probe_id <> dense_probe_id_1')\n",
      "    truncated_probes = CORT.aggregate('count(*)', by='dense_probe_id')\n",
      "    num_truncated_probes = int(truncated_probes.count()[0])\n",
      "\n",
      "    # drop rows+columns that are all empty\n",
      "    truncated_probes_index = truncated_probes.unpack()['dense_probe_id'].redimension(\"<dense_probe_id:int64>[i=0:%i,1000,0]\" % num_truncated_probes)\n",
      "    truncated_matrix = CORT.apply('dense_probe_idx', 'dense_probe_id',\n",
      "                                  'dense_probe_id_1x', 'dense_probe_id_1')    \n",
      "    truncated_matrix = truncated_matrix.index_lookup(truncated_probes_index, \"dense_probe_idx\", \"truncated_probe_id\")\n",
      "    truncated_matrix = truncated_matrix.index_lookup(truncated_probes_index, \"dense_probe_id_1x\", \"truncated_probe_id_1\")\n",
      "        \n",
      "    truncated_schema = \"<v:double null>[truncated_probe_id=0:%i,1000,0, truncated_probe_id_1=0:%i,1000,0]\" % (                            \n",
      "        num_truncated_probes-1,\n",
      "        num_truncated_probes-1)\n",
      "    truncated_matrix = truncated_matrix.redimension(truncated_schema).toarray()\n",
      "\n",
      "    gene_names = (probes\n",
      "                  .apply('gnl', 'strlen(reference_gene_symbols)')\n",
      "                  .apply(\"sub1\", \"substr(reference_gene_symbols, 0, gnl-1)\")\n",
      "                  .apply(\"gene_symbol\", \"iif(gnl>0, substr(sub1, 1, gnl-1),'')\",\n",
      "                         \"illuminahiseq_rnaseq_probe_idx\", \"illuminahiseq_rnaseq_probe_id\")\n",
      "                  .index_lookup(probes_index, \"illuminahiseq_rnaseq_probe_idx\", \"dense_probe_id\")\n",
      "                  .index_lookup(truncated_probes_index, \"dense_probe_id\", \"truncated_probe_id\")\n",
      "                  .redimension(\"<gene_symbol: string> [truncated_probe_id=0:%i,1000,0]\" % (num_truncated_probes-1))\n",
      "                  )\n",
      "    \n",
      "    gene_names = gene_names.toarray()\n",
      "    print \"Time elapsed: %0.2f sec\" % (time() - t1)\n",
      "    return truncated_matrix, gene_names"
     ],
     "language": "python",
     "metadata": {},
     "outputs": []
    },
    {
     "cell_type": "code",
     "collapsed": false,
     "input": [
      "cor, genes = corr_simplified()"
     ],
     "language": "python",
     "metadata": {},
     "outputs": []
    },
    {
     "cell_type": "code",
     "collapsed": false,
     "input": [
      "# visualize the network of highly-correlated genes\n",
      "\n",
      "import networkx as nx\n",
      "\n",
      "g = nx.Graph()\n",
      "\n",
      "for gene in genes:\n",
      "    g.add_node(gene)\n",
      "    \n",
      "for y, x in np.column_stack(np.where(cor > 0)):\n",
      "    g.add_edge(genes[y], genes[x], weight=cor[y, x])\n",
      "\n",
      "plt.figure(figsize=(10, 10), dpi=300)\n",
      "pos = nx.graphviz_layout(g)\n",
      "nx.draw_networkx_edges(g, pos, alpha=0.7)\n",
      "lbls = nx.draw_networkx_labels(g, pos)\n",
      "plt.axis('off')"
     ],
     "language": "python",
     "metadata": {},
     "outputs": []
    },
    {
     "cell_type": "code",
     "collapsed": false,
     "input": [
      "ALL_PLATFORMS = (\"AGILENTG4502A_07_1\",\n",
      "                 \"AGILENTG4502A_07_2\",\n",
      "                 \"AGILENTG4502A_07_3\",\n",
      "                 \"HT_HG_U133A\",\n",
      "                 \"GENOME_WIDE_SNP_6\",\n",
      "                 \"HUMANMETHYLATION27\",\n",
      "                 \"HUMANMETHYLATION450\",\n",
      "                 \"ILLUMINAGA_RNASEQV2\",\n",
      "                 \"ILLUMINAHISEQ_RNASEQ\",\n",
      "                 \"ILLUMINAHISEQ_MIRNASEQ\",\n",
      "                 \"ILLUMINAHISEQ_RNASEQV2\",\n",
      "                 \"PROTEIN_EXP\",\n",
      "                 )\n",
      "\n",
      "def build_platform_sim(platforms=ALL_PLATFORMS,\n",
      "                        output_array_name=\"TCGA_%s_PLATFORM_SIM\" % TCGA_DOWNLOAD_DATE,\n",
      "                        gene_sim_name=\"TCGA_%s_GENE_SIM\" % TCGA_DOWNLOAD_DATE):\n",
      "    \"\"\"\n",
      "    Consolidate platform arrays into a single cube, computing averages for each gene.\n",
      "    \n",
      "    The resulting schema is\n",
      "    <agilent07_1, agilent07_2, ...>[sample_id, gene_id_sim]\n",
      "    \n",
      "    Where gene_id_sim is a reference to a new 1D list of simple gene names.\n",
      "    \n",
      "    This throws away a lot of metadata and averages data at the per-gene level,\n",
      "    but allows one to correlate different platforms easily and simplifies some queries\n",
      "    \"\"\"\n",
      "    gene = wrap('GENE')\n",
      "    num_genes = int(gene.count()[0][0])\n",
      "    max_gid = int(gene.papply('gid', 'gene_id').max()[0])\n",
      "    \n",
      "    if max_gid + 1 != num_genes:\n",
      "        raise ValueError(\"Gene id mismatch\")\n",
      "\n",
      "    sample = wrap('SAMPLE')\n",
      "    num_samples = int(sample.count()[0])    \n",
      "    max_sid = int(sample.papply('sid', 'sample_id').max()[0])    \n",
      "    if max_sid + 1 != num_samples:\n",
      "        raise ValueError(\"Sample id mismatch\")\n",
      "\n",
      "    sdb.remove(gene_sim_name)\n",
      "    gene_sim_schema = \"<gene_symbol: string> [ gene_id_sim = 0:%i, 1000, 0]\" % max_gid\n",
      "    gene_sim = gene.apply('gene_id_sim', 'gene_id').redimension(gene_sim_schema).eval().rename(gene_sim_name)\n",
      "        \n",
      "    sdb.remove('platform_build_mask')\n",
      "    platform_dimensions = \"[sample_id=0:%i, 1000, 0, gene_id_sim=0:%i, 1000, 0]\" % (max_sid, max_gid)\n",
      "    platform_build_mask = sdb.afl.build('<val:double null> %s' % platform_dimensions, 'null').eval().rename('platform_build_mask')\n",
      "\n",
      "    to_merge = []\n",
      "\n",
      "    # Average platform value over samples, for each sample_id and gene_id. Store in temp array\n",
      "    for platform_name in platforms:\n",
      "        print(\"Redimming %s\" % platform_name)\n",
      "        platform_lower_name = platform_name.lower()\n",
      "        platform_array = wrap(platform_name)\n",
      "        platform_probe_array = wrap(platform_name + '_PROBE')\n",
      "        platform_probe_dimension_name = \"%s_probe_id\" % platform_lower_name\n",
      "        platform_redim_name = \"%s_RT\" % platform_name\n",
      "        t1 = time()\n",
      "\n",
      "        sdb.remove(platform_redim_name)\n",
      "        platform_probe_array = platform_probe_array.redimension(\"<genomic_start:uint64> [gene_id = 0:%i,1000,0, %s=0:*,1000000,0]\" \n",
      "                                                                % (max_gid, platform_probe_dimension_name)).eval()\n",
      "        \n",
      "        platform_redim = sdb.merge(platform_array, platform_probe_array)\n",
      "        platform_redim = platform_redim.apply(\"gene_id_sim\", \"gene_id\")\n",
      "        platform_redim = platform_redim.redimension(\"<%s:double null> [sample_id = 0:%i, 1000,0, gene_id_sim = 0:%i,1000,0], avg(value) as %s\" %\n",
      "                                                    (platform_lower_name, max_sid, max_gid, platform_lower_name))\n",
      "        \n",
      "        # this is a direct AFL merge() call, not a SciDB-Py merge\n",
      "        platform_redim = platform_redim.merge(platform_build_mask).eval().rename(platform_redim_name)\n",
      "        \n",
      "        print time() - t1\n",
      "        to_merge.append(platform_redim_name)\n",
      "\n",
      "    # join this list of sample averages into a single array,\n",
      "    # by repeatedly merging pairs of arrays\n",
      "    while len(to_merge) > 1:\n",
      "        a, b = to_merge.pop(0), to_merge.pop(0)\n",
      "        join_nm = '%s_%s' % (a, b)\n",
      "        print(join_nm)\n",
      "        sdb.remove(join_nm)\n",
      "        c = sdb.merge(sdb.wrap_array(a), sdb.wrap_array(b)).eval().rename(join_nm)\n",
      "        to_merge.append(c.name)\n",
      "    \n",
      "        a.reap()\n",
      "        b.reap()\n",
      "    \n",
      "    # rename and return\n",
      "    return sdb.wrap_array(to_merge[0]).rename(output_array_name)"
     ],
     "language": "python",
     "metadata": {},
     "outputs": []
    },
    {
     "cell_type": "code",
     "collapsed": false,
     "input": [
      "# takes a while!\n",
      "#build_platform_sim()"
     ],
     "language": "python",
     "metadata": {},
     "outputs": []
    },
    {
     "cell_type": "code",
     "collapsed": false,
     "input": [
      "# delete all non-explicitly-renamed arrays created in this session\n",
      "# note that this is called automatically when Python shuts down\n",
      "\n",
      "sdb.reap()"
     ],
     "language": "python",
     "metadata": {},
     "outputs": []
    }
   ],
   "metadata": {}
  }
 ]
}